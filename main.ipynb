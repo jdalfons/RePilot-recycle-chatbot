{
 "cells": [
  {
   "cell_type": "code",
   "execution_count": 1,
   "metadata": {},
   "outputs": [
    {
     "name": "stderr",
     "output_type": "stream",
     "text": [
      "[nltk_data] Downloading package punkt to /Users/halcolo/nltk_data...\n",
      "[nltk_data]   Package punkt is already up-to-date!\n"
     ]
    },
    {
     "data": {
      "text/plain": [
       "True"
      ]
     },
     "execution_count": 1,
     "metadata": {},
     "output_type": "execute_result"
    }
   ],
   "source": [
    "from utils import PDFProcessor, MistralRAG\n",
    "import os\n",
    "from dotenv import load_dotenv\n",
    "# Load environment variables from a .env file\n",
    "load_dotenv()"
   ]
  },
  {
   "cell_type": "code",
   "execution_count": 2,
   "metadata": {},
   "outputs": [],
   "source": [
    "# current_folder = os.path.dirname(__file__)\n",
    "file = os.path.join('data', 'Recycle_methods.pdf')"
   ]
  },
  {
   "cell_type": "code",
   "execution_count": 3,
   "metadata": {},
   "outputs": [
    {
     "data": {
      "text/plain": [
       "35"
      ]
     },
     "execution_count": 3,
     "metadata": {},
     "output_type": "execute_result"
    }
   ],
   "source": [
    "pdf = PDFProcessor()\n",
    "chunks = pdf.process_pdf(file)\n",
    "len(chunks)"
   ]
  },
  {
   "cell_type": "code",
   "execution_count": 4,
   "metadata": {},
   "outputs": [
    {
     "data": {
      "text/plain": [
       "'tJPjjA3ux1oZ9iqc2fsBBuX9nq9eHjUM'"
      ]
     },
     "execution_count": 4,
     "metadata": {},
     "output_type": "execute_result"
    }
   ],
   "source": [
    "mistral_api_key = os.getenv(\"MISTRAL_API_KEY\")\n",
    "mistral_api_key"
   ]
  },
  {
   "cell_type": "code",
   "execution_count": 10,
   "metadata": {},
   "outputs": [
    {
     "name": "stdout",
     "output_type": "stream",
     "text": [
      "Answer: According to the provided context, eggshells can be composted in Lyon. The city encourages its residents to engage in composting through various initiatives and campaigns. Composting involves the decomposition of organic material into nutrient-rich matter that can be used as a natural fertilizer. The composting process typically involves the collection of organic waste, which is then left to mature. During this time, the organic material breaks down into compost, which is rich in nutrients and can be used to enrich soil and promote plant growth. Once the compost is ready, it is screened to remove any non-biodegradable residues and ensure a homogeneous product. This compost is often referred to as \"green\" compost and is sold or provided to various industries, including agriculture, local market gardeners, and even public authorities. Therefore, to recycle an eggshell in Lyon, you can participate in the city's composting initiatives by collecting your organic waste, including eggshells, and depositing them at designated voluntary drop-off points.\n",
      "\n",
      "Source chunks used:\n",
      "- composition rapide les dchet s entr ent en phase de maturation. durant cet t e pr iode la matir e or ganique de vient un compost r iche en nutr iment s pr t  tr e utilis comme amendement natur el.  le ...\n",
      "\n",
      "-  oie publique. la ville de par is pr opose galement des point s d appor t v olont air e pour des dchet s spcifiques comme les t e x tiles les piles ou les app ar eils lectr iques. 2 . l a c o l l e c  ...\n",
      "\n",
      "- ont transpor t s v ers des plat ef or mes de compost age o ils se transf or ment en compost une matir e or ganique r iche et pr cieuse. ce compost est ensuit e utilis en agr icul tur e ou dans les jar ...\n",
      "\n",
      "- s ou r ec y cls pour pr oduir e de nouv e aux tissus. app ar eils lectr iques et lectr oniques deee  dpollus et r ec y cls. piles et b at t er ies  r cupr es pour e x trair e les mt aux pr cieux. 5 .  ...\n",
      "\n"
     ]
    }
   ],
   "source": [
    "mistral_api_key = os.getenv(\"MISTRAL_API_KEY\")\n",
    "if not mistral_api_key:\n",
    "    raise ValueError(\"Please set the MISTRAL_API_KEY environment variable\")\n",
    "\n",
    "# Initialize the RAG system with your Mistral API key\n",
    "rag = MistralRAG(\n",
    "    api_key=mistral_api_key,\n",
    "    model_name=\"mistral-medium\"  # or choose another model size\n",
    ")\n",
    "\n",
    "# Ingest documents\n",
    "rag.ingest_pdf(file)\n",
    "\n",
    "# Query the system\n",
    "response = rag.query(\n",
    "    question=\"how to recycle an egg shell in LYON?\",\n",
    "    temperature=0.7,\n",
    "    max_tokens=1024\n",
    ")\n",
    "\n",
    "print(\"Answer:\", response[\"answer\"])\n",
    "print(\"\\nSource chunks used:\")\n",
    "for chunk in response[\"source_chunks\"]:\n",
    "    print(\"-\", chunk[:200], \"...\\n\")"
   ]
  },
  {
   "cell_type": "code",
   "execution_count": null,
   "metadata": {},
   "outputs": [],
   "source": []
  }
 ],
 "metadata": {
  "kernelspec": {
   "display_name": "llm-td2",
   "language": "python",
   "name": "python3"
  },
  "language_info": {
   "codemirror_mode": {
    "name": "ipython",
    "version": 3
   },
   "file_extension": ".py",
   "mimetype": "text/x-python",
   "name": "python",
   "nbconvert_exporter": "python",
   "pygments_lexer": "ipython3",
   "version": "3.11.10"
  }
 },
 "nbformat": 4,
 "nbformat_minor": 2
}
