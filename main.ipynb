{
 "cells": [
  {
   "cell_type": "code",
   "execution_count": 36,
   "metadata": {},
   "outputs": [
    {
     "name": "stderr",
     "output_type": "stream",
     "text": [
      "[nltk_data] Downloading package punkt to /Users/halcolo/nltk_data...\n",
      "[nltk_data]   Package punkt is already up-to-date!\n"
     ]
    },
    {
     "data": {
      "text/plain": [
       "{'label': 'Le rôle du chatbot',\n",
       " 'value': \"Vous êtes un agent conversationnel spécialisé dans le recyclage et la gestion des déchets pour la ville de Lyon.\\nVotre rôle est d’aider les utilisateurs à comprendre le processus de recyclage et de gestion des déchets en se basant uniquement sur les informations disponibles dans votre base de connaissances. Si un utilisateur pose une question qui dépasse les informations disponibles, répondez avec :\\n« Je suis désolé, mais ma fonction d'agent conversationnel est limitée aux données que j'ai en mémoire. Pour plus d'informations, je vous invite à contacter la mairie de votre localité. »\\nAdoptez un ton professionnel, clair et engageant tout en vous assurant que vos réponses respectent les consignes suivantes :\\n  Précision : Appuyez-vous exclusivement sur les données disponibles.\\n  Accessibilité : Fournissez des explications compréhensibles par le grand public.\\n  Orientation : Lorsque les informations sont insuffisantes, guidez les utilisateurs vers les services municipaux compétents.\\n\"}"
      ]
     },
     "execution_count": 36,
     "metadata": {},
     "output_type": "execute_result"
    }
   ],
   "source": [
    "from utils import Config\n",
    "config = Config('config.yml')\n",
    "role = config.get_role_prompt()\n",
    "role"
   ]
  },
  {
   "cell_type": "code",
   "execution_count": 2,
   "metadata": {},
   "outputs": [],
   "source": [
    "# import os\n",
    "# from utils import PDFProcessor\n",
    "# file = os.path.join('data', 'grand_lyon_tri.pdf')\n",
    "# pdf = PDFProcessor()\n",
    "# chunks = pdf.process_pdf(file)"
   ]
  },
  {
   "cell_type": "code",
   "execution_count": 3,
   "metadata": {},
   "outputs": [],
   "source": [
    "# len(chunks)"
   ]
  },
  {
   "cell_type": "code",
   "execution_count": 74,
   "metadata": {},
   "outputs": [],
   "source": [
    "import json\n",
    "import re\n",
    "from typing import List\n",
    "\n",
    "class JSONProcessor:\n",
    "    def __init__(self, chunk_size: int = 1000, chunk_overlap: int = 200):\n",
    "        \"\"\"\n",
    "        Initialize the JSON processor with configurable chunk parameters.\n",
    "        \n",
    "        Args:\n",
    "            chunk_size (int): Target size of each chunk in characters\n",
    "            chunk_overlap (int): Number of characters to overlap between chunks\n",
    "        \"\"\"\n",
    "        self.chunk_size = chunk_size\n",
    "        self.chunk_overlap = chunk_overlap\n",
    "\n",
    "    def read_json(self, file_path: str) -> str:\n",
    "        \"\"\"\n",
    "        Read and extract text from a JSON file.\n",
    "        \n",
    "        Args:\n",
    "            file_path (str): Path to the JSON file\n",
    "            \n",
    "        Returns:\n",
    "            str: Extracted text from the JSON\n",
    "        \"\"\"\n",
    "        with open(file_path, 'r', encoding='utf-8') as file:\n",
    "            data = json.load(file)\n",
    "            text = json.dumps(data)\n",
    "                \n",
    "        return text\n",
    "\n",
    "    def clean_text(self, text: str) -> str:\n",
    "        \"\"\"\n",
    "        Clean and normalize the extracted text.\n",
    "        \n",
    "        Args:\n",
    "            text (str): Raw text to clean\n",
    "            \n",
    "        Returns:\n",
    "            str: Cleaned text\n",
    "        \"\"\"\n",
    "        # Convert to lowercase\n",
    "        text = text.lower()\n",
    "        \n",
    "        # Remove extra whitespace\n",
    "        text = ' '.join(text.split())\n",
    "        \n",
    "        # Remove special characters but keep periods for sentence boundaries\n",
    "        text = re.sub(r'[^a-z0-9\\s\\.]', '', text)\n",
    "        \n",
    "        # Fix spacing after periods\n",
    "        text = re.sub(r'\\.(?! )', '. ', text)\n",
    "        \n",
    "        # Remove multiple periods\n",
    "        text = re.sub(r'\\.{2,}', '.', text)\n",
    "        \n",
    "        return text\n",
    "\n",
    "    def create_chunks(self, text: str) -> List[str]:\n",
    "        \"\"\"\n",
    "        Split the text into chunks of a specified length.\n",
    "        \n",
    "        Args:\n",
    "            text (str): Cleaned text to chunk\n",
    "            \n",
    "        Returns:\n",
    "            List[str]: List of text chunks\n",
    "        \"\"\"\n",
    "        chunks = []\n",
    "        start = 0\n",
    "        while start < len(text):\n",
    "            end = start + self.chunk_size\n",
    "            chunks.append(text[start:end])\n",
    "            start = end - self.chunk_overlap\n",
    "        \n",
    "        return chunks\n",
    "\n",
    "    def process_json(self, file_path: str) -> List[str]:\n",
    "        \"\"\"\n",
    "        Process a JSON file and return chunks ready for RAG.\n",
    "        \n",
    "        Args:\n",
    "            file_path (str): Path to the JSON file\n",
    "            \n",
    "        Returns:\n",
    "            List[str]: List of processed text chunks\n",
    "        \"\"\"\n",
    "        # Extract text from JSON\n",
    "        raw_text = self.read_json(file_path)\n",
    "        \n",
    "        # Clean the text\n",
    "        cleaned_text = self.clean_text(raw_text)\n",
    "        \n",
    "        # Create chunks\n",
    "        chunks = self.create_chunks(cleaned_text)\n",
    "        \n",
    "        return chunks"
   ]
  },
  {
   "cell_type": "code",
   "execution_count": 76,
   "metadata": {},
   "outputs": [],
   "source": [
    "import os\n",
    "import json\n",
    "from pymongo import MongoClient\n",
    "\n",
    "class MongoDB:\n",
    "    def __init__(self, db_name: str, collection_name: str, data_dir: str = 'data', host: str = 'localhost', port: int = 27017):\n",
    "        \"\"\"\n",
    "        Initialize the MongoDB client with the specified host and port.\n",
    "        \n",
    "        Args:\n",
    "            db_name (str): Name of the database\n",
    "            collection_name (str): Name of the collection\n",
    "            data_dir (str): Directory containing JSON files\n",
    "            host (str): MongoDB host address\n",
    "            port (int): MongoDB port number\n",
    "        \"\"\"\n",
    "        self.client = MongoClient(host, port)\n",
    "        self.db_name = db_name\n",
    "        self.collection_name = collection_name\n",
    "        self.data_dir = data_dir\n",
    "        self.db = self.client[db_name]\n",
    "        self.collection = self.db[collection_name]\n",
    "        \n",
    "        # Check if the collection is empty and load data if necessary\n",
    "        if self.collection.estimated_document_count() == 0:\n",
    "            self.setup_database()\n",
    "\n",
    "    def create_collection(self, db_name: str, collection_name: str):\n",
    "        \"\"\"\n",
    "        Create a collection in the specified database.\n",
    "        \n",
    "        Args:\n",
    "            db_name (str): Name of the database\n",
    "            collection_name (str): Name of the collection\n",
    "            \n",
    "        Returns:\n",
    "            Collection: The created collection\n",
    "        \"\"\"\n",
    "        db = self.client[db_name]\n",
    "        collection = db[collection_name]\n",
    "        return collection\n",
    "    \n",
    "    def insert_item(self, db_name: str, collection_name: str, item: dict):\n",
    "        \"\"\"\n",
    "        Insert an item into the specified collection.\n",
    "        \n",
    "        Args:\n",
    "            db_name (str): Name of the database\n",
    "            collection_name (str): Name of the collection\n",
    "            item (dict): Item to insert\n",
    "        \"\"\"\n",
    "        collection = self.create_collection(db_name, collection_name)\n",
    "        collection.update_one(\n",
    "            {'id': item['id'], 'ville': item['ville']},  # Filter to check if the item already exists\n",
    "            {'$set': item},      # Update the item if it exists\n",
    "            upsert=True          # Insert the item if it doesn't exist\n",
    "        )\n",
    "        print(\"Inserted item with ID:\", item['id'])\n",
    "    \n",
    "    def query_collection(self, db_name: str, collection_name: str, query: dict):\n",
    "        \"\"\"\n",
    "        Query the specified collection.\n",
    "        \n",
    "        Args:\n",
    "            db_name (str): Name of the database\n",
    "            collection_name (str): Name of the collection\n",
    "            query (dict): Query to execute\n",
    "            \n",
    "        Returns:\n",
    "            list: List of query results\n",
    "        \"\"\"\n",
    "        collection = self.create_collection(db_name, collection_name)\n",
    "        results = collection.find(query)\n",
    "        return list(results)\n",
    "    \n",
    "    def setup_database(self):\n",
    "        \"\"\"\n",
    "        Setup the database by inserting data from all JSON files in the specified directory.\n",
    "        \"\"\"\n",
    "        for file_name in os.listdir(self.data_dir):\n",
    "            if file_name.endswith('.json'):\n",
    "                file_path = os.path.join(self.data_dir, file_name)\n",
    "                with open(file_path, 'r', encoding='utf-8') as f:\n",
    "                    data = json.load(f)\n",
    "                \n",
    "                for item in data:\n",
    "                    mandatory = ['id', 'ville', 'type_dechet', 'produits', 'action', 'instructions']\n",
    "                    for field in mandatory:\n",
    "                        if field not in item:\n",
    "                            raise ValueError(f\"Missing field '{field}' in item with ID: {item['id']}\")\n",
    "                    self.insert_item(self.db_name, self.collection_name, item)\n",
    "        \n",
    "        print(f\"Data from all JSON files in '{self.data_dir}' verified and inserted into MongoDB collection '{self.collection_name}' if not already present\")\n"
   ]
  },
  {
   "cell_type": "code",
   "execution_count": 80,
   "metadata": {},
   "outputs": [
    {
     "name": "stdout",
     "output_type": "stream",
     "text": [
      "Inserted item with ID: 1\n",
      "Inserted item with ID: 2\n",
      "Inserted item with ID: 3\n",
      "Inserted item with ID: 4\n",
      "Inserted item with ID: 5\n",
      "Inserted item with ID: 6\n",
      "Inserted item with ID: 7\n",
      "Inserted item with ID: 8\n",
      "Inserted item with ID: 9\n",
      "Inserted item with ID: 10\n",
      "Inserted item with ID: 11\n",
      "Data from all JSON files in 'data' verified and inserted into MongoDB collection 'dechets' if not already present\n"
     ]
    }
   ],
   "source": [
    "mongoDb = MongoDB('rag', 'dechets')"
   ]
  },
  {
   "cell_type": "code",
   "execution_count": 43,
   "metadata": {},
   "outputs": [],
   "source": [
    "all_documents_list = mongoDb.query_collection('rag', 'dechets', {'ville': 'Grand Lyon Métropole'})"
   ]
  },
  {
   "cell_type": "code",
   "execution_count": 44,
   "metadata": {},
   "outputs": [],
   "source": [
    "import chromadb\n",
    "chroma_client = chromadb.Client()\n",
    "chroma_collection = chroma_client.get_or_create_collection(\"recycling_db\")"
   ]
  },
  {
   "cell_type": "code",
   "execution_count": 79,
   "metadata": {},
   "outputs": [],
   "source": [
    "from nltk.corpus import stopwords\n",
    "from nltk.stem import WordNetLemmatizer\n",
    "from nltk.tokenize import word_tokenize\n",
    "import nltk\n",
    "\n",
    "json_processor = JSONProcessor()\n",
    "\n",
    "ids = [str(doc['_id']) for doc in all_documents_list]\n",
    "documents = [\" \".join([f\"{k}: {v}\" for k, v in doc.items() if k != '_id' and k != 'id']) for doc in all_documents_list]\n",
    "documents = [json_processor.clean_text(doc) for doc in documents]\n",
    "# Ensure you have the necessary NLTK data files\n",
    "\n",
    "\n"
   ]
  },
  {
   "cell_type": "code",
   "execution_count": 78,
   "metadata": {},
   "outputs": [
    {
     "data": {
      "text/plain": [
       "(['678d690bcef7ed37800f2fbd',\n",
       "  '678d690bcef7ed37800f2fbe',\n",
       "  '678d690bcef7ed37800f2fbf',\n",
       "  '678d690bcef7ed37800f2fc0',\n",
       "  '678d690bcef7ed37800f2fc1',\n",
       "  '678d690bcef7ed37800f2fc2',\n",
       "  '678d690bcef7ed37800f2fc3',\n",
       "  '678d690bcef7ed37800f2fc4',\n",
       "  '678d690bcef7ed37800f2fc5',\n",
       "  '678d690bcef7ed37800f2fc6',\n",
       "  '678d690bcef7ed37800f2fc7'],\n",
       " ['ville grand lyon mtropole action recyclage avantages chaque tonne consigne trie transforme don recherche contre cancer. recyclage verre permet rduire mission co2. verre recycl utilis fabriquer nouveaux contenants. bouteille recycle peut fabriquer nimporte quel produit verre. recyclage verre conomise lnergie car verre recycl fond temprature infrieure production dorigine. couleurrecipient vert silo verre emplacement ville voie publique territoire silo verre proche chez exception vaisselle casse. vaisselle verre. miroirs. dampoules. plats. porcelaine. faence. dbris vaisselle. instruction dposez contenants vids sans couvercle vrac silo verre. retirez bouchons couvercles. pointscollecte silo verre proche chez vous. produits nom bouteille verre synonymes rcipient verre bouteille recyclable tag verre bouteille recyclage nom bouteille vin synonymes bouteille vin verre bouteille vin vide tag vin bouteille recyclage nom bouteille dhuile synonymes bouteille verre dhuile rcipient huile tag huile bouteille recyclage nom bouteille jus fruit synonymes bouteille verre jus bouteille jus recyclable tag jus bouteille verre nom bocal verre synonymes pot verre rcipient alimentaire verre tag bocal verre recyclage nom pot verre synonymes petits rcipients verre pot alimentaires tag pot verre recyclage nom pot confiture synonymes pot confiture vide bocal confiture tag confiture pot verre nom pot cornichons synonymes bocal cornichons pot conserve verre tag cornichons pot verre nom flacon verre synonymes flacon recyclable petit rcipient verre tag flacon verre recyclage recommendation jachte bouteilles bocaux consigns encourager rutilisation. privilgiez produits verre consign limiter dchets. remarques verres table bouteilles parfum vas dodorants vitres doivent tre jet bac gris. vaisselle porcelaine faence recyclent doivent tre jetes bac gris benne gravats dchterie. typedechet verre',\n",
       "  'ville grand lyon mtropole action recyclage avantages buvant leau robinet grand lyon famille 4 personnes conomise environ 200 moyenne chaque anne. couleurrecipient jaune bac tri emplacement devant lappartement bac tri proche chez exception plastique souill. sac plastique usags non recyclables. instruction mettez emballages vrac sac. videz bien contenu emballages. lavez emballages. pointscollecte bac tri proche chez vous. produits nom sac plastique synonymes sachet plastique sac jetable sac fin plastique tag sac plastique emballage nom sac lgumes congels synonymes sac lgumes surgels emballage lgumes congels tag sac lgumes congels plastique nom sachet fromage rp synonymes emballage fromage rp sachet fromage tag sachet fromage plastique nom suremballage plastique pack bouteilles synonymes film plastique bouteilles emballage plastique bouteilles tag plastique bouteilles suremballage nom recharge savon synonymes sachet savon liquide recharge plastique savon tag savon recharge plastique nom tube dentifrice synonymes emballage dentifrice tube plastique dentifrice tag tube dentifrice plastique nom pot crme synonymes pot plastique crme rcipient crme tag pot crme plastique nom pot yaourt synonymes rcipient yaourt pot individuel plastique tag pot yaourt plastique nom barquette polystyrne synonymes barquette alimentaire polystyrne emballage polystyrne tag barquette polystyrne plastique nom barquette plastique couvercle synonymes barquette ferme plastique contenant plastique couvercle tag barquette couvercle plastique nom barquette beurre synonymes contenant beurre barquette alimentaire beurre tag barquette beurre plastique nom bote dufs synonymes emballage ufs bote plastique ufs tag bote ufs plastique nom paquet chip synonymes emballage chip sachet plastique chip tag paquet chip plastique nom emballage jambon synonymes film plastique jambon emballage alimentaire jambon tag emballage jambon plastique nom emballage plat surgel synonymes bote plastique plat surgel film plastique plat congel tag emballage plat surgel plastique nom emballage club sandwich synonymes film plastique sandwich emballage alimentaire sandwich tag emballage sandwich plastique nom bouteille synonymes bouteille plastique rcipient jetable plastique tag bouteille plastique recyclage nom flacon synonymes flacon plastique petit rcipient plastique tag flacon plastique recyclage nom cubitainers vin synonymes cubi vin conteneur plastique vin tag vin plastique cubi recommendation prsente propres contenants rutilisables botes sachet commerants derniers peuvent refuser. privilgie produits vrac grand formats. typedechet emballages plastique',\n",
       "  'ville grand lyon mtropole action recyclage couleurrecipient jaune bac tri emplacement devant lappartement bac tri proche chez exception botes contenant produits dangereux. imbriquer dchets ex. mettre bouteille plastique bote mtal. instruction lavez contenants videzles simplement. dposezles bac jaune. pointscollecte bac tri proche chez vous. produits nom canette synonymes bote boisson petite bouteille mtal tag canette mtal boisson recyclage nom bote conserve synonymes conserve mtallique rcipient mtal tag bote conserve mtal aliment nom flacon arosol synonymes spray mtal arosol recyclable tag flacon arosol mtal recyclage nom bouteille mtal synonymes bouteille mtallique rcipient aluminium tag bouteille mtal recyclage nom barquette mtal synonymes barquette alimentaire mtallique emballage mtal tag barquette mtal alimentaire recyclage nom paquet caf synonymes emballage caf sachet aluminium tag paquet caf mtal recyclage nom gourde compote synonymes pochette compote mtal emballage compote tag gourde compote mtal alimentaire nom capsule cafth synonymes capsule aluminium capsule recyclable tag capsule caf th mtal recyclage nom papier daluminium synonymes feuille daluminium film mtallique tag papier aluminium mtal alimentaire nom opercule capsule bouteille synonymes couvercle mtal capsule mtallique tag opercule capsule mtal recyclage nom bouchon vi synonymes bouchon mtallique bouchon bouteille tag bouchon mtal bouteille recyclage nom couvercle bocal synonymes couvercle mtal couvercle recyclable tag couvercle bocal mtal recyclage nom pot cosmtique synonymes rcipient crme mtal pot mtallique tag pot cosmtique mtal recyclage nom tube aluminium synonymes tube mtallique tube recyclable tag tube aluminium mtal recyclage nom tube crme mtal synonymes tube soin mtal rcipient mtal tag tube crme mtal recyclage nom plaquette mdicament vide synonymes blister mdicament plaquette aluminium tag plaquette mdicament aluminium mtal recommendation privilgiez produits vrac rduire emballages mtal. rcuprez rutilisez botes mtalliques lorsque cest possible. typedechet emballages mtal',\n",
       "  'ville grand lyon mtropole action recyclage couleurrecipient jaune bac tri emplacement devant lappartement bac tri proche chez exception si papier carton humide gras jeter bac gris. imbriquer dchets ex. mettre bouteille plastique bote carton. instruction pliez carton gagner place. mettez emballages vrac sac. videz bien contenu emballages. pointscollecte bac tri proche chez vous. produits nom carton synonymes carton demballage bote carton tag carton emballage recyclage nom carton pizza synonymes bote pizza emballage pizza tag carton pizza recyclage nom bote crales synonymes emballage crales carton crales tag bote crales carton recyclage nom suremballage carton synonymes film carton emballage externe carton tag suremballage carton recyclage nom brique lait jus fruit synonymes carton lait brique jus tag brique lait jus carton recyclage nom rouleau papier absorbant hyginique synonymes papier essuietout papier absorbant tag rouleau papier absorbant hyginique nom papier bureau synonymes papier dimprimante feuilles papier tag papier bureau recyclage nom journaux synonymes presse crite journaux imprims tag journaux papier recyclage nom prospectus synonymes publicits imprimes flyer tag prospectus publicit papier recyclage nom enveloppe synonymes courrier papier enveloppe recycle tag enveloppe papier courrier recyclage nom sac papier synonymes sachet papier sac recyclable tag sac papier recyclage recommendation privilgiez lutilisation papier recycl. rduisez dchets optant produits sans suremballage. rutilisez carton stockage transport avant recycler. typedechet emballages papier carton',\n",
       "  'ville grand lyon mtropole action incinration avantages dchets mnagers valoriss nergtiquement incinration. lnergie produite sert chauffer immeubles raccords rseaux chauffage urbain produire llectricit. chaque anne mtropole incinre environ 380 000 tonne dchets produire 322 000 mwh dnergie thermique 83 000 mwh dlectricit. couleurrecipient gris bac gris ordure mnagres rsiduelles emplacement devant maison appartement point collecte rguliers ordure mnagres exception produits recyclables doivent tre tris placs bacs correspondants ex. bac jaune plastique mtaux. dchets dangereux produits toxiques inflammables doivent tre dposs dchterie. instruction placez dchets sac ferm. dposez sac bac gris rserv ordure mnagres rsiduelles. mlangez dchets matires recyclables plastique mtal verre etc. . pointscollecte bac gris proche domicile produits nom dchets dhygine mouchoirs sopalins utiliss lingettes cotons cotontige couch protection hyginiques synonymes produits dhygine usags lingettes mouchoirs jetables tag dchets hygine mouchoirs lingettes couch nom petits objets plastique stylo rasoir brosse dent synonymes petits plastique jetables stylo rasoir usags tag plastique stylo rasoir brosse dent nom vaisselle casse synonymes dbris vaisselle assiettes plat casss tag vaisselle casse dbris nom petits objets bois baguette botes camembert cagettes synonymes petits dchets bois objets bois non recyclables tag bois baguette cagettes dchets nom papier sulfuris synonymes papier cuisson usag papier alimentaire non recyclable tag papier sulfuris cuisson nom dchets alimentaires non compostables mlangs emballages synonymes restes alimentaires emballages aliment non compostables tag alimentaire non compostable emballages nom masque jetables synonymes masque chirurgicaux usags masque non recyclables tag masque jetables hygine dchets recommendation rduisez dchets mnagers privilgiant alternative durables ex. lingettes rutilisables cotons lavables. planifiez achats viter dchets inutiles. jetez dchets recyclables compostables bac gris. typedechet dchets mnagers',\n",
       "  'ville grand lyon mtropole action gestion multiple collecte ddie compostage incinration avantages rduction significative dchets rsiduels. valorisation sou forme compost biogaz. limitation mission lie lincinration. couleurrecipient marron conteneurs ddi dchets alimentaires gris bac gris ordure mnagres rsiduelles exception aliment emballs doivent tre dballs avant tri. huiles cuisson graisses animales doivent tre dposes composteurs conteneurs ddis. instruction si service collecte dchets alimentaires disponible utilisez conteneurs ddis. compostage individuel dposez dchets composteur adapt. labsence dautres option placez dchets sac ferm bac gris. pointscollecte conteneurs ddi proximit habitation composteurs individuels partags bac gris ordure mnagres produits nom pluchures fruit lgumes synonymes restes lgumes peaux fruit tag pluchures fruit lgumes compost nom marc caf th synonymes rsidus caf sachet th usags tag marc caf th compost nom restes repas synonymes dchets alimentaires cuits restes alimentaires tag restes repas alimentaire compost nom aliment prims sans emballage synonymes produits alimentaires expirs nourriture prime tag aliment prims compost alimentaire nom fleurs fanes synonymes bouquet fan dchets floraux tag fleurs fanes compost dchets verts nom petits dchets verts herbes feuilles synonymes feuilles mortes rsidus jardinage tag dchets verts herbes feuilles compost recommendation privilgiez compostage valoriser dchets alimentaires. planifiez repas rduire restes. utilisez sac papier kraft dchets alimentaires si requis conteneurs. typedechet dchets alimentaires',\n",
       "  'ville grand lyon mtropole action recyclage avantages battery contiennent mtaux prcieux comme lithium cobalt peuvent tre recycls. recycler battery rduit risques pollution sol eaux souterraines. contribue prserver ressources naturelles limitant lextraction nouveaux matriaux. couleurrecipient non applicable point collecte spcialiss exception jetez battery us bacs tri dchets mnagers. battery dfectueuses endommages doivent tre manipules prcaution. instruction dposez battery point collecte ddi comme magasin dchterie. vitez mlanger battery us dautres type dchets. conservez battery contenant tanche viter fuites chimiques. pointscollecte dchterie plus proche chez vous. magasins spcialiss collecte batteries. point recyclage supermarchs. produits nom battery rechargeables synonymes accumulateurs rechargeables pile rechargeables tag battery rechargeables accumulateurs recyclage nom battery alcalines synonymes pile alcalines battery standard tag battery alcalines pile recyclage nom battery lithium synonymes pile lithium accumulateurs lithium tag battery lithium recyclage mtaux nom battery voiture synonymes accumulateurs voiture battery plombacide tag battery voiture plomb recyclage nom battery tlcommande synonymes pile tlcommande battery miniature tag battery tlcommande pile recyclage nom battery doutils lectriques synonymes battery perceuse accumulateurs outils tag battery outils lectriques recyclage recommendation rassemblez battery us dposer seule fois point collecte. vitez dutiliser battery usage unique privilgiez rechargeables. stockez battery endroit sec labri chaleur avant recycler. typedechet battery',\n",
       "  'ville grand lyon mtropole action recyclage remploi avantages recycler llectromnager permet rcuprer matriaux prcieux comme cuivre lacier plastique. donner appareils bon tat soutient association locale rduit dchets. recyclage appareils lectriques rduit limpact environnemental limitant dchets enfouis incinrs. couleurrecipient non applicable point collecte spcialiss exception jetez appareils lectriques contenant produits dangereux bacs tri. appareils casss incomplets ncessitent traitement spcifique. instruction dposez appareils lectriques usags dchterie. certains appareils tat marche peuvent tre donns donneries remploi. assurezvous appareils dbranchs vides avant jeter. pointscollecte dchterie plus proche chez vous. donneries recycleries locales. produits nom rfrigrateurs synonymes frigos appareils refroidissement tag rfrigrateur frigo recyclage lectromnager nom lavevaisselle synonymes machine laver vaisselle appareil lavage vaisselle tag lavevaisselle vaisselle recyclage lectromnager nom lavelinge synonymes machine laver appareil lavage tag lavelinge machine laver recyclage lectromnager nom tlviseurs synonymes tv cran tl tag tlviseur tv cran recyclage nom aspirateurs synonymes appareils daspiration nettoyeurs aspiration tag aspirateur nettoyage recyclage lectromnager nom four microondes synonymes microondes four lectriques tag four microondes recyclage lectromnager nom grillepain synonymes toaster appareil griller tag grillepain toaster recyclage lectromnager nom mixeurs synonymes blender appareils mixage tag mixeur blender recyclage lectromnager nom climatiseurs synonymes appareils climatisation systmes refroidissement tag climatiseur refroidissement recyclage lectromnager nom appareils chauffage synonymes radiateurs chauffages lectriques tag chauffage radiateur recyclage lectromnager recommendation donnez appareils bon tat association recycleries offrir seconde vie. privilgiez rparations prolonger dure vie appareils. regroupez appareils usags rduire dplacements lors dpt dchterie. typedechet lectromnager',\n",
       "  'ville grand lyon mtropole action compostage valorisation avantages dchets verts peuvent tre transforms compost fertiliser sols. compostage domestique rduit transport mission lie traitement. contribue rduire lenfouissement lincinration dchets organiques. couleurrecipient non applicable collecte dchterie compostage exception mlangez dchets verts dautres type dchets. brler dchets verts particules mises dangereuses sant. brler 50 kg dchets vgtaux met autant poussires 5 900 km parcourus voiture diesel. instruction dposez dchets verts dchterie. pensez compostage domestique rduire apports dchterie. vitez brler dchets verts car cela interdit polluant. pointscollecte dchterie plus proche chez vous. composteurs locaux. produits nom souches darbres synonymes racine darbres troncs darbres coup tag souches arbres bois dchets verts nom taille hay synonymes dchets hay branch hay tag tailles hay jardinage dchets verts nom tonte gazon synonymes herbe coupe rsidus tonte tag tonte gazon herbe dchets verts nom feuilles mortes synonymes feuilles sches dchets feuilles tag feuilles mortes sches dchets verts nom branch synonymes bois taille rameaux tag branch bois dchets verts nom fleurs fanes synonymes bouquet fan fleurs sches tag fleurs fanes jardinage dchets verts nom corces synonymes couch bois morceau dcorce tag corces bois dchets verts nom rsidus potager synonymes dchets jardin potager restes lgumes tag rsidus potager dchets verts jardin nom petite racine synonymes racine coupe dbris racinaires tag racine petite dchets verts recommendation privilgiez compostage domestique rduire transports. utilisez broyeur rduire taille branch avant compostage. vitez mlanger dchets verts contamins ex. pesticide dautres rsidus. typedechet dchets verts',\n",
       "  'ville grand lyon mtropole action traitement spcialis avantages traitement spcialis vite pollution sol eaux. collecte scurise garantit protection lenvironnement. matriaux rutilisables issus produits peuvent tre extraits valorisation. rduit risques sanitaires li produits toxiques. couleurrecipient non applicable collecte spcialise exception videz produits canalisation nature. emballages contamins doivent tre trait comme dchets dangereux. instruction apportez produits directement dchterie. conservezles emballage dorigine viter tout risque. manipulez produits prcaution viter fuites claboussures. pointscollecte dchterie plus proche chez vous. produits nom produits corrosifs acides base synonymes acides concentrs base caustiques tag produits corrosifs acides base dangereux nom produits inflammables solvants essence synonymes solvants industriels essence inflammable tag produits inflammables solvants essence dangereux nom produits toxiques pesticide herbicide synonymes produits phytosanitaires substance toxiques tag produits toxiques pesticide herbicide dangereux nom peintures vernis synonymes peintures usage vernis base solvants tag peintures vernis dangereux recyclage nom arosols contenant produits chimiques synonymes spray chimiques arosols usags tag arosols chimiques spray dangereux nom produits nettoyage industriels synonymes dtergents industriels nettoyants chimiques tag produits nettoyage industriels dangereux nom huiles usage synonymes huiles moteur usage huiles us tag huiles usage moteur dangereux nom ampoule fluorescentes synonymes lampes fluorescentes nons tag ampoule fluorescentes nons dangereux recommendation stockez produits endroit sec sr avant dposer dchterie. utilisez quipements protection gants lunette lors manipulation. regroupez dpts rduire trajets minimiser limpact environnemental. typedechet produits dangereux',\n",
       "  'ville grand lyon mtropole action remploi recyclage avantages textile collect dchterie recycls produire isolants thermiques acoustiques. article bon tat redistribus via association partenaires seconde vie. rduire textile bac gris limite dchets incinrs impact environnemental. couleurrecipient non applicable espaces tri dchterie emplacement espaces ddi dchterie. bornes textile spcifiques disponibles certaines dchteries. exception dposez textile mouills souills ex. graisse peinture. textile contamins doivent tre jet bac gris ordure mnagres. instruction dposez textile propres sec espaces ddi dchterie. textile bon tat peuvent tre donns association partenaires remploi. article trs abm inutilisables assurezvous quils tris avant dposer. pointscollecte dchterie plus proche chez vous. produits nom vtements usags synonymes vtements abm vtements inutilisables tag vtements usags textile recyclage nom chaussures synonymes paires chaussures usage souliers tag chaussures souliers textile recyclage nom linge maison draps serviette rideaux synonymes draps usags serviette bain rideaux tag linge maison draps textile recyclage nom accessoires textile sac ceintures bonnet synonymes sac tissu ceintures textile bonnet tag accessoires sac ceintures textile nom maroquinerie synonymes sac cuir produits cuir tag maroquinerie cuir sac recyclage nom article bon tat lgrement abm synonymes article rutilisables produits donner tag article remploi textile recyclage recommendation avant jeter pensez rutiliser donner textile bon tat. limiter dchets textile privilgiez achats doccasion rparez vtements. sparez textile abm ceux remployables tri efficace. typedechet textile vtements'])"
      ]
     },
     "execution_count": 78,
     "metadata": {},
     "output_type": "execute_result"
    }
   ],
   "source": [
    "ids, documents"
   ]
  },
  {
   "cell_type": "code",
   "execution_count": 54,
   "metadata": {},
   "outputs": [],
   "source": [
    "from chromadb.config import Settings\n",
    "\n",
    "chroma_client = chromadb.PersistentClient(\n",
    "            path=\"./chromadb\",\n",
    "            settings=Settings(anonymized_telemetry=False)\n",
    "        )"
   ]
  },
  {
   "cell_type": "code",
   "execution_count": 55,
   "metadata": {},
   "outputs": [],
   "source": [
    "chroma_collection = chroma_client.get_or_create_collection(name=\"recycling_db\")"
   ]
  },
  {
   "cell_type": "code",
   "execution_count": 84,
   "metadata": {},
   "outputs": [
    {
     "name": "stdout",
     "output_type": "stream",
     "text": [
      "11\n"
     ]
    }
   ],
   "source": [
    "if chroma_collection.count() == 0:\n",
    "    chroma_collection.add(documents=documents, ids=ids)\n",
    "    \n",
    "print(chroma_collection.count())\n"
   ]
  },
  {
   "cell_type": "code",
   "execution_count": 60,
   "metadata": {},
   "outputs": [
    {
     "name": "stdout",
     "output_type": "stream",
     "text": [
      "{'ids': [['678d690bcef7ed37800f2fbd', '678d690bcef7ed37800f2fc4']], 'distances': [[1.0600780625621293, 1.168714399602189]], 'metadatas': [[None, None]], 'embeddings': None, 'documents': [['ville Grand Lyon Mtropole action Recyclage avantages Chaque tonne consigne trie transforme don recherche contre cancer recyclage verre permet rduire mission CO2 verre recycl utilis fabriquer nouveaux contenants bouteille recycle peut fabriquer nimporte quel produit verre recyclage verre conomise lnergie car verre recycl fond temprature infrieure production dorigine couleurrecipient Vert silo verre emplacement ville Voie publique territoire Silo verre proche chez exception vaisselle casse vaisselle verre miroirs dampoules plat porcelaine faence dbris vaisselle instruction Dposez contenants vids sans couvercle vrac silo verre Retirez bouchons couvercles pointscollecte Silo verre proche chez produits nom Bouteille verre synonymes Rcipient verre Bouteille recyclable tag verre bouteille recyclage nom Bouteille vin synonymes Bouteille vin verre Bouteille vin vide tag vin bouteille recyclage nom Bouteille dhuile synonymes Bouteille verre dhuile Rcipient huile tag huile bouteille recyclage nom Bouteille jus fruit synonymes Bouteille verre jus Bouteille jus recyclable tag jus bouteille verre nom Bocal verre synonymes Pot verre Rcipient alimentaire verre tag bocal verre recyclage nom Pots verre synonymes Petits rcipients verre Pots alimentaires tag pot verre recyclage nom Pots confiture synonymes Pot confiture vide Bocal confiture tag confiture pot verre nom Pots cornichons synonymes Bocal cornichons Pot conserve verre tag cornichons pot verre nom Flacon verre synonymes Flacon recyclable Petit rcipient verre tag flacon verre recyclage recommendation Jachte bouteilles bocaux consigns encourager rutilisation Privilgiez produits verre consign limiter dchets remarques verres table bouteilles parfum vas dodorants vitres doivent tre jet bac gris vaisselle porcelaine faence recyclent doivent tre jetes bac gris benne gravats dchterie typedechet Verre', 'ville Grand Lyon Mtropole action Recyclage remploi avantages Recycler llectromnager permet rcuprer matriaux prcieux comme cuivre lacier plastique Donner appareils bon tat soutient association locale rduit dchets recyclage appareils lectriques rduit limpact environnemental limitant dchets enfouis incinrs couleurrecipient Non applicable point collecte spcialiss exception jetez appareils lectriques contenant produits dangereux bacs tri appareils casss incomplets ncessitent traitement spcifique instruction Dposez appareils lectriques usags dchterie Certains appareils tat marche peuvent tre donns donneries remploi Assurezvous appareils dbranchs vides avant jeter pointscollecte Dchterie plus proche chez Donneries recycleries locale produits nom Rfrigrateurs synonymes Frigos Appareils refroidissement tag rfrigrateur frigo recyclage lectromnager nom Lavevaisselle synonymes Machine laver vaisselle Appareil lavage vaisselle tag lavevaisselle vaisselle recyclage lectromnager nom Lavelinge synonymes Machine laver Appareil lavage tag lavelinge machine laver recyclage lectromnager nom Tlviseurs synonymes TV cran tl tag tlviseur tv cran recyclage nom Aspirateurs synonymes Appareils daspiration Nettoyeurs aspiration tag aspirateur nettoyage recyclage lectromnager nom Fours microondes synonymes Microondes Fours lectriques tag four microondes recyclage lectromnager nom Grillepain synonymes Toaster Appareil griller tag grillepain toaster recyclage lectromnager nom Mixeurs synonymes Blenders Appareils mixage tag mixeur blender recyclage lectromnager nom Climatiseurs synonymes Appareils climatisation Systmes refroidissement tag climatiseur refroidissement recyclage lectromnager nom Appareils chauffage synonymes Radiateurs Chauffages lectriques tag chauffage radiateur recyclage lectromnager recommendation Donnez appareils bon tat association recycleries offrir seconde vie Privilgiez rparations prolonger dure vie appareils Regroupez appareils usags rduire dplacements lors dpt dchterie typedechet lectromnager']], 'uris': None, 'data': None, 'included': ['metadatas', 'documents', 'distances']}\n"
     ]
    }
   ],
   "source": [
    "results = chroma_collection.query(\n",
    "    query_texts=[\"Recyclage de verres\"], # Chroma will embed this for you\n",
    "    n_results=2\n",
    ")\n",
    "print(results)"
   ]
  },
  {
   "cell_type": "code",
   "execution_count": 68,
   "metadata": {},
   "outputs": [
    {
     "name": "stdout",
     "output_type": "stream",
     "text": [
      "[{'_id': ObjectId('678d690bcef7ed37800f2fbd'), 'id': '1', 'ville': 'Grand Lyon Métropole', 'action': 'Recyclage', 'avantages': ['Chaque tonne consignée ou triée se transforme en un don pour la recherche contre le cancer.', 'Le recyclage du verre permet de réduire les émissions de CO2.', 'Le verre recyclé est utilisé pour fabriquer de nouveaux contenants.', 'Avec une bouteille recyclée, on peut fabriquer n’importe quel produit en verre.', 'Le recyclage du verre économise de l’énergie, car le verre recyclé se fond à une température inférieure à sa production d’origine.'], 'couleur_recipient': 'Vert (silo à verre)', 'emplacement': ['Dans la ville', 'Voie publique du territoire', 'Silo à verre proche de chez vous'], 'exceptions': ['Pas de vaisselle cassée.', 'Pas de vaisselle en verre.', 'Pas de miroirs.', \"Pas d'ampoules.\", 'Pas de plats.', 'Pas de porcelaine.', 'Pas de faïence.', 'Pas de débris de vaisselle.'], 'instructions': ['Déposez les contenants vidés, sans couvercle et en vrac, dans le silo à verre.', 'Retirez les bouchons et couvercles.'], 'points_collecte': ['Silo à verre proche de chez vous.'], 'produits': [{'nom': 'Bouteille en verre', 'synonymes': ['Récipient en verre', 'Bouteille recyclable'], 'tags': ['verre', 'bouteille', 'recyclage']}, {'nom': 'Bouteille de vin', 'synonymes': ['Bouteille de vin en verre', 'Bouteille de vin vide'], 'tags': ['vin', 'bouteille', 'recyclage']}, {'nom': \"Bouteille d'huile\", 'synonymes': [\"Bouteille en verre d'huile\", 'Récipient pour huile'], 'tags': ['huile', 'bouteille', 'recyclage']}, {'nom': 'Bouteille de jus de fruits', 'synonymes': ['Bouteille en verre de jus', 'Bouteille de jus recyclable'], 'tags': ['jus', 'bouteille', 'verre']}, {'nom': 'Bocal en verre', 'synonymes': ['Pot en verre', 'Récipient alimentaire en verre'], 'tags': ['bocal', 'verre', 'recyclage']}, {'nom': 'Pots en verre', 'synonymes': ['Petits récipients en verre', 'Pots alimentaires'], 'tags': ['pots', 'verre', 'recyclage']}, {'nom': 'Pots de confiture', 'synonymes': ['Pot de confiture vide', 'Bocal de confiture'], 'tags': ['confiture', 'pots', 'verre']}, {'nom': 'Pots de cornichons', 'synonymes': ['Bocal de cornichons', 'Pot de conserve en verre'], 'tags': ['cornichons', 'pots', 'verre']}, {'nom': 'Flacon en verre', 'synonymes': ['Flacon recyclable', 'Petit récipient en verre'], 'tags': ['flacon', 'verre', 'recyclage']}], 'recommendations': ['J’achète des bouteilles et bocaux consignés pour encourager leur réutilisation.', 'Privilégiez les produits en verre consigné pour limiter les déchets.'], 'remarques': ['Les verres de table, bouteilles de parfum, vases, déodorants et vitres doivent être jetés dans le bac gris.', 'La vaisselle, la porcelaine et la faïence ne se recyclent pas et doivent être jetées dans le bac gris ou dans la benne gravats en déchèterie.'], 'type_dechet': 'Verre'}, {'_id': ObjectId('678d690bcef7ed37800f2fc4'), 'id': '8', 'ville': 'Grand Lyon Métropole', 'action': 'Recyclage ou réemploi', 'avantages': [\"Recycler l'électroménager permet de récupérer des matériaux précieux comme le cuivre, l'acier et le plastique.\", 'Donner des appareils en bon état soutient les associations locales et réduit les déchets.', \"Le recyclage des appareils électriques réduit l'impact environnemental en limitant les déchets enfouis ou incinérés.\"], 'couleur_recipient': 'Non applicable (points de collecte spécialisés)', 'exceptions': ['Ne jetez pas les appareils électriques contenant des produits dangereux dans les bacs de tri.', 'Les appareils cassés ou incomplets nécessitent un traitement spécifique.'], 'instructions': ['Déposez les appareils électriques usagés en déchèterie.', 'Certains appareils en état de marche peuvent être donnés dans les donneries pour réemploi.', 'Assurez-vous que les appareils sont débranchés et vides avant de les jeter.'], 'points_collecte': ['Déchèterie la plus proche de chez vous.', 'Donneries ou recycleries locales.'], 'produits': [{'nom': 'Réfrigérateurs', 'synonymes': ['Frigos', 'Appareils de refroidissement'], 'tags': ['réfrigérateur', 'frigo', 'recyclage', 'électroménager']}, {'nom': 'Lave-vaisselle', 'synonymes': ['Machine à laver la vaisselle', 'Appareil de lavage de vaisselle'], 'tags': ['lave-vaisselle', 'vaisselle', 'recyclage', 'électroménager']}, {'nom': 'Lave-linge', 'synonymes': ['Machine à laver', 'Appareil de lavage'], 'tags': ['lave-linge', 'machine à laver', 'recyclage', 'électroménager']}, {'nom': 'Téléviseurs', 'synonymes': ['TV', 'Écrans télé'], 'tags': ['téléviseur', 'tv', 'écrans', 'recyclage']}, {'nom': 'Aspirateurs', 'synonymes': [\"Appareils d'aspiration\", 'Nettoyeurs à aspiration'], 'tags': ['aspirateur', 'nettoyage', 'recyclage', 'électroménager']}, {'nom': 'Fours micro-ondes', 'synonymes': ['Micro-ondes', 'Fours électriques'], 'tags': ['four', 'micro-ondes', 'recyclage', 'électroménager']}, {'nom': 'Grille-pain', 'synonymes': ['Toaster', 'Appareil à griller'], 'tags': ['grille-pain', 'toaster', 'recyclage', 'électroménager']}, {'nom': 'Mixeurs', 'synonymes': ['Blenders', 'Appareils de mixage'], 'tags': ['mixeur', 'blender', 'recyclage', 'électroménager']}, {'nom': 'Climatiseurs', 'synonymes': ['Appareils de climatisation', 'Systèmes de refroidissement'], 'tags': ['climatiseur', 'refroidissement', 'recyclage', 'électroménager']}, {'nom': 'Appareils de chauffage', 'synonymes': ['Radiateurs', 'Chauffages électriques'], 'tags': ['chauffage', 'radiateur', 'recyclage', 'électroménager']}], 'recommendations': ['Donnez vos appareils en bon état aux associations ou recycleries pour leur offrir une seconde vie.', 'Privilégiez les réparations pour prolonger la durée de vie des appareils.', 'Regroupez vos appareils usagés pour réduire les déplacements lors du dépôt en déchèterie.'], 'type_dechet': 'Électroménager'}]\n"
     ]
    }
   ],
   "source": [
    "from bson import ObjectId\n",
    "\n",
    "# Extract the list of IDs from the results variable\n",
    "result_ids = results['ids'][0]\n",
    "\n",
    "# Convert the IDs to ObjectId instances if necessary\n",
    "result_object_ids = [ObjectId(id) for id in result_ids]\n",
    "\n",
    "# Query MongoDB using the extracted IDs\n",
    "queried_documents = mongoDb.query_collection('rag', 'dechets', {'_id': {'$in': result_object_ids}})\n",
    "print(queried_documents)"
   ]
  },
  {
   "cell_type": "code",
   "execution_count": 71,
   "metadata": {},
   "outputs": [
    {
     "ename": "ValueError",
     "evalue": "Could not connect to tenant default_tenant. Are you sure it exists?",
     "output_type": "error",
     "traceback": [
      "\u001b[0;31m---------------------------------------------------------------------------\u001b[0m",
      "\u001b[0;31mHTTPError\u001b[0m                                 Traceback (most recent call last)",
      "File \u001b[0;32m~/.pyenv/versions/llm-project/lib/python3.11/site-packages/chromadb/api/fastapi.py:611\u001b[0m, in \u001b[0;36mraise_chroma_error\u001b[0;34m(resp)\u001b[0m\n\u001b[1;32m    610\u001b[0m \u001b[38;5;28;01mtry\u001b[39;00m:\n\u001b[0;32m--> 611\u001b[0m     \u001b[43mresp\u001b[49m\u001b[38;5;241;43m.\u001b[39;49m\u001b[43mraise_for_status\u001b[49m\u001b[43m(\u001b[49m\u001b[43m)\u001b[49m\n\u001b[1;32m    612\u001b[0m \u001b[38;5;28;01mexcept\u001b[39;00m requests\u001b[38;5;241m.\u001b[39mHTTPError:\n",
      "File \u001b[0;32m~/.pyenv/versions/llm-project/lib/python3.11/site-packages/requests/models.py:1024\u001b[0m, in \u001b[0;36mResponse.raise_for_status\u001b[0;34m(self)\u001b[0m\n\u001b[1;32m   1023\u001b[0m \u001b[38;5;28;01mif\u001b[39;00m http_error_msg:\n\u001b[0;32m-> 1024\u001b[0m     \u001b[38;5;28;01mraise\u001b[39;00m HTTPError(http_error_msg, response\u001b[38;5;241m=\u001b[39m\u001b[38;5;28mself\u001b[39m)\n",
      "\u001b[0;31mHTTPError\u001b[0m: 400 Client Error: Bad Request for url: http://localhost:8000/api/v1/tenants/default_tenant",
      "\nDuring handling of the above exception, another exception occurred:\n",
      "\u001b[0;31mException\u001b[0m                                 Traceback (most recent call last)",
      "File \u001b[0;32m~/.pyenv/versions/llm-project/lib/python3.11/site-packages/chromadb/api/client.py:351\u001b[0m, in \u001b[0;36mClient._validate_tenant_database\u001b[0;34m(self, tenant, database)\u001b[0m\n\u001b[1;32m    350\u001b[0m \u001b[38;5;28;01mtry\u001b[39;00m:\n\u001b[0;32m--> 351\u001b[0m     \u001b[38;5;28;43mself\u001b[39;49m\u001b[38;5;241;43m.\u001b[39;49m\u001b[43m_admin_client\u001b[49m\u001b[38;5;241;43m.\u001b[39;49m\u001b[43mget_tenant\u001b[49m\u001b[43m(\u001b[49m\u001b[43mname\u001b[49m\u001b[38;5;241;43m=\u001b[39;49m\u001b[43mtenant\u001b[49m\u001b[43m)\u001b[49m\n\u001b[1;32m    352\u001b[0m \u001b[38;5;28;01mexcept\u001b[39;00m requests\u001b[38;5;241m.\u001b[39mexceptions\u001b[38;5;241m.\u001b[39mConnectionError:\n",
      "File \u001b[0;32m~/.pyenv/versions/llm-project/lib/python3.11/site-packages/chromadb/api/client.py:399\u001b[0m, in \u001b[0;36mAdminClient.get_tenant\u001b[0;34m(self, name)\u001b[0m\n\u001b[1;32m    397\u001b[0m \u001b[38;5;129m@override\u001b[39m\n\u001b[1;32m    398\u001b[0m \u001b[38;5;28;01mdef\u001b[39;00m\u001b[38;5;250m \u001b[39m\u001b[38;5;21mget_tenant\u001b[39m(\u001b[38;5;28mself\u001b[39m, name: \u001b[38;5;28mstr\u001b[39m) \u001b[38;5;241m-\u001b[39m\u001b[38;5;241m>\u001b[39m Tenant:\n\u001b[0;32m--> 399\u001b[0m     \u001b[38;5;28;01mreturn\u001b[39;00m \u001b[38;5;28;43mself\u001b[39;49m\u001b[38;5;241;43m.\u001b[39;49m\u001b[43m_server\u001b[49m\u001b[38;5;241;43m.\u001b[39;49m\u001b[43mget_tenant\u001b[49m\u001b[43m(\u001b[49m\u001b[43mname\u001b[49m\u001b[38;5;241;43m=\u001b[39;49m\u001b[43mname\u001b[49m\u001b[43m)\u001b[49m\n",
      "File \u001b[0;32m~/.pyenv/versions/llm-project/lib/python3.11/site-packages/chromadb/telemetry/opentelemetry/__init__.py:146\u001b[0m, in \u001b[0;36mtrace_method.<locals>.decorator.<locals>.wrapper\u001b[0;34m(*args, **kwargs)\u001b[0m\n\u001b[1;32m    145\u001b[0m \u001b[38;5;28;01mif\u001b[39;00m trace_granularity \u001b[38;5;241m<\u001b[39m granularity:\n\u001b[0;32m--> 146\u001b[0m     \u001b[38;5;28;01mreturn\u001b[39;00m \u001b[43mf\u001b[49m\u001b[43m(\u001b[49m\u001b[38;5;241;43m*\u001b[39;49m\u001b[43margs\u001b[49m\u001b[43m,\u001b[49m\u001b[43m \u001b[49m\u001b[38;5;241;43m*\u001b[39;49m\u001b[38;5;241;43m*\u001b[39;49m\u001b[43mkwargs\u001b[49m\u001b[43m)\u001b[49m\n\u001b[1;32m    147\u001b[0m \u001b[38;5;28;01mif\u001b[39;00m \u001b[38;5;129;01mnot\u001b[39;00m tracer:\n",
      "File \u001b[0;32m~/.pyenv/versions/llm-project/lib/python3.11/site-packages/chromadb/api/fastapi.py:135\u001b[0m, in \u001b[0;36mFastAPI.get_tenant\u001b[0;34m(self, name)\u001b[0m\n\u001b[1;32m    132\u001b[0m resp \u001b[38;5;241m=\u001b[39m \u001b[38;5;28mself\u001b[39m\u001b[38;5;241m.\u001b[39m_session\u001b[38;5;241m.\u001b[39mget(\n\u001b[1;32m    133\u001b[0m     \u001b[38;5;28mself\u001b[39m\u001b[38;5;241m.\u001b[39m_api_url \u001b[38;5;241m+\u001b[39m \u001b[38;5;124m\"\u001b[39m\u001b[38;5;124m/tenants/\u001b[39m\u001b[38;5;124m\"\u001b[39m \u001b[38;5;241m+\u001b[39m name,\n\u001b[1;32m    134\u001b[0m )\n\u001b[0;32m--> 135\u001b[0m \u001b[43mraise_chroma_error\u001b[49m\u001b[43m(\u001b[49m\u001b[43mresp\u001b[49m\u001b[43m)\u001b[49m\n\u001b[1;32m    136\u001b[0m resp_json \u001b[38;5;241m=\u001b[39m json\u001b[38;5;241m.\u001b[39mloads(resp\u001b[38;5;241m.\u001b[39mtext)\n",
      "File \u001b[0;32m~/.pyenv/versions/llm-project/lib/python3.11/site-packages/chromadb/api/fastapi.py:613\u001b[0m, in \u001b[0;36mraise_chroma_error\u001b[0;34m(resp)\u001b[0m\n\u001b[1;32m    612\u001b[0m \u001b[38;5;28;01mexcept\u001b[39;00m requests\u001b[38;5;241m.\u001b[39mHTTPError:\n\u001b[0;32m--> 613\u001b[0m     \u001b[38;5;28;01mraise\u001b[39;00m (\u001b[38;5;167;01mException\u001b[39;00m(resp\u001b[38;5;241m.\u001b[39mtext))\n",
      "\u001b[0;31mException\u001b[0m: {\"error\":\"InvalidArgumentError\",\"message\":\"cannot unpack non-iterable coroutine object\"}",
      "\nDuring handling of the above exception, another exception occurred:\n",
      "\u001b[0;31mValueError\u001b[0m                                Traceback (most recent call last)",
      "Cell \u001b[0;32mIn[71], line 5\u001b[0m\n\u001b[1;32m      1\u001b[0m \u001b[38;5;28;01mimport\u001b[39;00m\u001b[38;5;250m \u001b[39m\u001b[38;5;21;01mchromadb\u001b[39;00m\n\u001b[1;32m      2\u001b[0m \u001b[38;5;28;01mfrom\u001b[39;00m\u001b[38;5;250m \u001b[39m\u001b[38;5;21;01mchromadb\u001b[39;00m\u001b[38;5;21;01m.\u001b[39;00m\u001b[38;5;21;01mconfig\u001b[39;00m\u001b[38;5;250m \u001b[39m\u001b[38;5;28;01mimport\u001b[39;00m Settings\n\u001b[0;32m----> 5\u001b[0m chroma_client \u001b[38;5;241m=\u001b[39m \u001b[43mchromadb\u001b[49m\u001b[38;5;241;43m.\u001b[39;49m\u001b[43mHttpClient\u001b[49m\u001b[43m(\u001b[49m\n\u001b[1;32m      6\u001b[0m \u001b[43m    \u001b[49m\u001b[43mhost\u001b[49m\u001b[38;5;241;43m=\u001b[39;49m\u001b[38;5;124;43m'\u001b[39;49m\u001b[38;5;124;43mlocalhost\u001b[39;49m\u001b[38;5;124;43m'\u001b[39;49m\u001b[43m,\u001b[49m\n\u001b[1;32m      7\u001b[0m \u001b[43m    \u001b[49m\u001b[43mport\u001b[49m\u001b[38;5;241;43m=\u001b[39;49m\u001b[38;5;241;43m8000\u001b[39;49m\u001b[43m,\u001b[49m\n\u001b[1;32m      8\u001b[0m \u001b[43m    \u001b[49m\u001b[43msettings\u001b[49m\u001b[38;5;241;43m=\u001b[39;49m\u001b[43mSettings\u001b[49m\u001b[43m(\u001b[49m\n\u001b[1;32m      9\u001b[0m \u001b[43m        \u001b[49m\u001b[38;5;66;43;03m# chroma_client_auth_provider=\"chromadb.auth.token_authn.TokenAuthClientProvider\",\u001b[39;49;00m\n\u001b[1;32m     10\u001b[0m \u001b[43m        \u001b[49m\u001b[38;5;66;43;03m# chroma_client_auth_credentials='test-token'\u001b[39;49;00m\n\u001b[1;32m     11\u001b[0m \u001b[43m    \u001b[49m\u001b[43m)\u001b[49m\n\u001b[1;32m     12\u001b[0m \u001b[43m)\u001b[49m\n",
      "File \u001b[0;32m~/.pyenv/versions/llm-project/lib/python3.11/site-packages/chromadb/__init__.py:204\u001b[0m, in \u001b[0;36mHttpClient\u001b[0;34m(host, port, ssl, headers, settings, tenant, database)\u001b[0m\n\u001b[1;32m    201\u001b[0m settings\u001b[38;5;241m.\u001b[39mchroma_server_ssl_enabled \u001b[38;5;241m=\u001b[39m ssl\n\u001b[1;32m    202\u001b[0m settings\u001b[38;5;241m.\u001b[39mchroma_server_headers \u001b[38;5;241m=\u001b[39m headers\n\u001b[0;32m--> 204\u001b[0m \u001b[38;5;28;01mreturn\u001b[39;00m \u001b[43mClientCreator\u001b[49m\u001b[43m(\u001b[49m\u001b[43mtenant\u001b[49m\u001b[38;5;241;43m=\u001b[39;49m\u001b[43mtenant\u001b[49m\u001b[43m,\u001b[49m\u001b[43m \u001b[49m\u001b[43mdatabase\u001b[49m\u001b[38;5;241;43m=\u001b[39;49m\u001b[43mdatabase\u001b[49m\u001b[43m,\u001b[49m\u001b[43m \u001b[49m\u001b[43msettings\u001b[49m\u001b[38;5;241;43m=\u001b[39;49m\u001b[43msettings\u001b[49m\u001b[43m)\u001b[49m\n",
      "File \u001b[0;32m~/.pyenv/versions/llm-project/lib/python3.11/site-packages/chromadb/api/client.py:60\u001b[0m, in \u001b[0;36mClient.__init__\u001b[0;34m(self, tenant, database, settings)\u001b[0m\n\u001b[1;32m     58\u001b[0m \u001b[38;5;66;03m# Create an admin client for verifying that databases and tenants exist\u001b[39;00m\n\u001b[1;32m     59\u001b[0m \u001b[38;5;28mself\u001b[39m\u001b[38;5;241m.\u001b[39m_admin_client \u001b[38;5;241m=\u001b[39m AdminClient\u001b[38;5;241m.\u001b[39mfrom_system(\u001b[38;5;28mself\u001b[39m\u001b[38;5;241m.\u001b[39m_system)\n\u001b[0;32m---> 60\u001b[0m \u001b[38;5;28;43mself\u001b[39;49m\u001b[38;5;241;43m.\u001b[39;49m\u001b[43m_validate_tenant_database\u001b[49m\u001b[43m(\u001b[49m\u001b[43mtenant\u001b[49m\u001b[38;5;241;43m=\u001b[39;49m\u001b[43mtenant\u001b[49m\u001b[43m,\u001b[49m\u001b[43m \u001b[49m\u001b[43mdatabase\u001b[49m\u001b[38;5;241;43m=\u001b[39;49m\u001b[43mdatabase\u001b[49m\u001b[43m)\u001b[49m\n\u001b[1;32m     62\u001b[0m \u001b[38;5;66;03m# Get the root system component we want to interact with\u001b[39;00m\n\u001b[1;32m     63\u001b[0m \u001b[38;5;28mself\u001b[39m\u001b[38;5;241m.\u001b[39m_server \u001b[38;5;241m=\u001b[39m \u001b[38;5;28mself\u001b[39m\u001b[38;5;241m.\u001b[39m_system\u001b[38;5;241m.\u001b[39minstance(ServerAPI)\n",
      "File \u001b[0;32m~/.pyenv/versions/llm-project/lib/python3.11/site-packages/chromadb/api/client.py:360\u001b[0m, in \u001b[0;36mClient._validate_tenant_database\u001b[0;34m(self, tenant, database)\u001b[0m\n\u001b[1;32m    358\u001b[0m     \u001b[38;5;28;01mraise\u001b[39;00m e\n\u001b[1;32m    359\u001b[0m \u001b[38;5;28;01mexcept\u001b[39;00m \u001b[38;5;167;01mException\u001b[39;00m:\n\u001b[0;32m--> 360\u001b[0m     \u001b[38;5;28;01mraise\u001b[39;00m \u001b[38;5;167;01mValueError\u001b[39;00m(\n\u001b[1;32m    361\u001b[0m         \u001b[38;5;124mf\u001b[39m\u001b[38;5;124m\"\u001b[39m\u001b[38;5;124mCould not connect to tenant \u001b[39m\u001b[38;5;132;01m{\u001b[39;00mtenant\u001b[38;5;132;01m}\u001b[39;00m\u001b[38;5;124m. Are you sure it exists?\u001b[39m\u001b[38;5;124m\"\u001b[39m\n\u001b[1;32m    362\u001b[0m     )\n\u001b[1;32m    364\u001b[0m \u001b[38;5;28;01mtry\u001b[39;00m:\n\u001b[1;32m    365\u001b[0m     \u001b[38;5;28mself\u001b[39m\u001b[38;5;241m.\u001b[39m_admin_client\u001b[38;5;241m.\u001b[39mget_database(name\u001b[38;5;241m=\u001b[39mdatabase, tenant\u001b[38;5;241m=\u001b[39mtenant)\n",
      "\u001b[0;31mValueError\u001b[0m: Could not connect to tenant default_tenant. Are you sure it exists?"
     ]
    }
   ],
   "source": [
    "import chromadb\n",
    "from chromadb.config import Settings\n",
    "\n",
    "\n",
    "chroma_client = chromadb.HttpClient(\n",
    "    host='localhost',\n",
    "    port=8000,\n",
    "    settings=Settings(\n",
    "        # chroma_client_auth_provider=\"chromadb.auth.token_authn.TokenAuthClientProvider\",\n",
    "        # chroma_client_auth_credentials='test-token'\n",
    "    )\n",
    ")\n"
   ]
  },
  {
   "cell_type": "code",
   "execution_count": null,
   "metadata": {},
   "outputs": [],
   "source": []
  }
 ],
 "metadata": {
  "kernelspec": {
   "display_name": "llm-project",
   "language": "python",
   "name": "python3"
  },
  "language_info": {
   "codemirror_mode": {
    "name": "ipython",
    "version": 3
   },
   "file_extension": ".py",
   "mimetype": "text/x-python",
   "name": "python",
   "nbconvert_exporter": "python",
   "pygments_lexer": "ipython3",
   "version": "3.11.10"
  }
 },
 "nbformat": 4,
 "nbformat_minor": 2
}
